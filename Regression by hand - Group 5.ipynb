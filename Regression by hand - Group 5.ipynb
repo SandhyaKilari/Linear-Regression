{
 "cells": [
  {
   "cell_type": "markdown",
   "id": "1a3bfc35",
   "metadata": {},
   "source": [
    "## Linear regression with a line\n",
    "$$m = \\frac{cov(X, Y)}{cov(X, X)}$$\n",
    "$$b = E(Y) - mE(X)$$\n",
    "where,\n",
    "$$cov(X, Y) = \\frac{1}{n-1}\\sum_{i=1}^n(X_i - E(X))(Y_i - E(Y))$$\n",
    "\n",
    "$$E(X) = \\frac{1}{n}\\sum X = \\frac{1}{2}*(0.5+1) = 0.75$$\n",
    "$$E(Y) = \\frac{1}{n}\\sum Y = \\frac{1}{2}*(2+1) = 1.5$$\n",
    "\n",
    "$$cov(X, Y) = \\frac{1}{1}*[(0.5-0.75)*(2-1.5)+(1-0.75)*(1-1.5)] = -0.25$$\n",
    "$$cov(X, X) = \\frac{1}{1}*[(0.5-0.75)^2+(1-0.75)^2] = 0.125$$\n",
    "\n",
    "Therefore, we have \n",
    "$$m = \\frac{-0.25}{0.125} = -2$$\n",
    "\n",
    "$$b = 1.5 - (-2)*0.75 = 3$$"
   ]
  },
  {
   "cell_type": "markdown",
   "id": "ff1e7b30",
   "metadata": {},
   "source": [
    "## RBF-NN\n",
    "$$Y_1 = w_1e^{-(X_1-X_1)^2} + w_2e^{-(X_1-X_2)^2}$$\n",
    "$$Y_2 = w_1e^{-(X_2-X_1)^2} + w_2e^{-(X_2-X_2)^2}$$\n",
    "\n",
    "Then,\n",
    "$$2 = w_1e^{-0^2} + w_2e^{-(0.5-1)^2}$$\n",
    "$$1 = w_1e^{-(1-0.5)^2} + w_2e^{-0^2}$$\n",
    "\n",
    "Solving the equations, we have\n",
    "$$w_1 = 3.104$$\n",
    "$$w_2 = -1.417$$"
   ]
  },
  {
   "cell_type": "markdown",
   "id": "79d63369",
   "metadata": {},
   "source": [
    "## MAE & MSE\n",
    "MAE and MSE are both zeros for these two models."
   ]
  },
  {
   "cell_type": "markdown",
   "id": "46193fb9",
   "metadata": {},
   "source": [
    "## Compare to the web app"
   ]
  },
  {
   "cell_type": "markdown",
   "id": "651c1429",
   "metadata": {},
   "source": [
    "We imported the calculated fitting parameters into the web app and the MSE and MAE obtained from the web app are zeros, which indicates the calculated parameters match the results obtained from the web app"
   ]
  },
  {
   "cell_type": "code",
   "execution_count": null,
   "id": "10fa2a8a",
   "metadata": {},
   "outputs": [],
   "source": []
  }
 ],
 "metadata": {
  "kernelspec": {
   "display_name": "Python 3 (ipykernel)",
   "language": "python",
   "name": "python3"
  },
  "language_info": {
   "codemirror_mode": {
    "name": "ipython",
    "version": 3
   },
   "file_extension": ".py",
   "mimetype": "text/x-python",
   "name": "python",
   "nbconvert_exporter": "python",
   "pygments_lexer": "ipython3",
   "version": "3.11.3"
  }
 },
 "nbformat": 4,
 "nbformat_minor": 5
}
